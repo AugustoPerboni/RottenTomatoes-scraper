{
 "cells": [
  {
   "cell_type": "markdown",
   "metadata": {},
   "source": [
    "# Scraping Rotten Tomatoes 140 ESSENTIAL ACTION MOVIES TO WATCH NOW"
   ]
  },
  {
   "cell_type": "code",
   "execution_count": 14,
   "metadata": {},
   "outputs": [],
   "source": [
    "from bs4 import BeautifulSoup\n",
    "import requests\n",
    "import pandas as pd"
   ]
  },
  {
   "cell_type": "code",
   "execution_count": 2,
   "metadata": {},
   "outputs": [
    {
     "name": "stdout",
     "output_type": "stream",
     "text": [
      "Request OK\n"
     ]
    }
   ],
   "source": [
    "base_url = 'https://editorial.rottentomatoes.com/guide/140-essential-action-movies-to-watch-now/'\n",
    "\n",
    "response = requests.get(base_url)\n",
    "\n",
    "if response.ok:\n",
    "    print('Request OK')\n",
    "else:\n",
    "    print('Request failed')\n",
    "\n",
    "# Obtain the html binary from the reponse\n",
    "html = response.content\n",
    "\n",
    "# Makse the soup\n",
    "soup = BeautifulSoup(html, 'lxml')\n",
    "\n",
    "# Save the html\n",
    "with open('top_140_action_movie_rotten_tomatoes.html', 'wb') as file:\n",
    "    file.write(soup.prettify('utf-8'))"
   ]
  },
  {
   "cell_type": "markdown",
   "metadata": {},
   "source": [
    "Inspecting the website is easily noticed that the name, year, cricitcs consensus, \n",
    "synops, cast and director ate in the div element with the class = \"col-sm-18 col-full-xs countdown-item-content\""
   ]
  },
  {
   "cell_type": "code",
   "execution_count": 3,
   "metadata": {},
   "outputs": [
    {
     "name": "stdout",
     "output_type": "stream",
     "text": [
      "140\n"
     ]
    }
   ],
   "source": [
    "data_elements = soup.find_all('div', class_ = \"col-sm-18 col-full-xs countdown-item-content\" )\n",
    "print(len(data_elements))"
   ]
  },
  {
   "cell_type": "markdown",
   "metadata": {},
   "source": [
    "As we can se the find_all return have 140 elements, the same of the number of the movies in the list."
   ]
  },
  {
   "cell_type": "code",
   "execution_count": 4,
   "metadata": {},
   "outputs": [
    {
     "data": {
      "text/plain": [
       "<div class=\"col-sm-18 col-full-xs countdown-item-content\">\n",
       "<div class=\"row countdown-item-title-bar\">\n",
       "<div class=\"col-sm-20 col-full-xs\" style=\"height: 100%;\">\n",
       "<div class=\"article_movie_title\" style=\"float: left;\">\n",
       "<div><h2><a href=\"https://www.rottentomatoes.com/m/1018009-running_scared\">Running Scared</a> <span class=\"subtle start-year\">(1986)</span> <span class=\"icon tiny rotten\" title=\"Rotten\"></span> <span class=\"tMeterScore\">59%</span></h2></div>\n",
       "</div>\n",
       "</div>\n",
       "<div class=\"col-sm-4 col-full-xs\" style=\"height: 100%;\">\n",
       "<div class=\"countdown-index\">#140</div>\n",
       "</div>\n",
       "</div>\n",
       "<div class=\"row countdown-item-details\">\n",
       "<div class=\"col-sm-24\">\n",
       "<div class=\"info countdown-adjusted-score\"><span class=\"descriptor\">Adjusted Score: </span>55415% <span class=\"glyphicon glyphicon-question-sign\" data-html=\"true\" data-original-title=\"The Adjusted Score comes from a weighted formula (Bayesian) that we use that accounts for variation in the number of reviews per movie.\" data-placement=\"top\" data-toggle=\"tooltip\" rel=\"tooltip\" title=\"\"></span></div>\n",
       "<div class=\"info critics-consensus\"><span class=\"descriptor\">Critics Consensus:</span> <em>Running Scared</em> struggles to strike a consistent balance between violent action and humor, but the chemistry between its well-matched leads keeps things entertaining.</div>\n",
       "<div class=\"info synopsis\"><span class=\"descriptor\">Synopsis:</span> Ray and Danny (Gregory Hines, Billy Crystal) are two Chicago police detectives hot on the trail of drug kingpin Julio...<a class=\"\" data-pageheader=\"\" href=\"https://www.rottentomatoes.com/m/1018009-running_scared\" target=\"_top\"> [More]</a></div>\n",
       "<div class=\"info cast\">\n",
       "<span class=\"descriptor\">Starring:</span> <a class=\"\" href=\"//www.rottentomatoes.com/celebrity/gregory_hines\">Gregory Hines</a>, <a class=\"\" href=\"//www.rottentomatoes.com/celebrity/billy_crystal\">Billy Crystal</a>, <a class=\"\" href=\"//www.rottentomatoes.com/celebrity/jimmy_smits\">Jimmy Smits</a>, <a class=\"\" href=\"//www.rottentomatoes.com/celebrity/steven_bauer\">Steven Bauer</a></div>\n",
       "<div class=\"info director\">\n",
       "<span class=\"descriptor\">Directed By:</span> <a class=\"\" href=\"//www.rottentomatoes.com/celebrity/peter_hyams\">Peter Hyams</a></div>\n",
       "</div>\n",
       "</div>\n",
       "</div>"
      ]
     },
     "execution_count": 4,
     "metadata": {},
     "output_type": "execute_result"
    }
   ],
   "source": [
    "data_elements[0]"
   ]
  },
  {
   "cell_type": "markdown",
   "metadata": {},
   "source": [
    "#### Extracting the titles \n",
    "Printing one of the data_elements and specting the website we can see that the titles are stored in the anchor inside h2"
   ]
  },
  {
   "cell_type": "code",
   "execution_count": 5,
   "metadata": {},
   "outputs": [
    {
     "name": "stdout",
     "output_type": "stream",
     "text": [
      "['Running Scared', 'Equilibrium', 'Hero', 'Road House', 'Unstoppable', 'Shaft', 'The Villainess', 'Highlander', 'Die Hard 2', 'National Treasure', 'The Protector', 'Revenge', 'El Mariachi', 'A Touch of Zen', 'Top Gun', 'Con Air', 'The Expendables 2', 'The Mummy', 'Mr. & Mrs. Smith', 'Rush Hour', 'The Equalizer', 'Captain America: Civil War', 'Air Force One', 'Bloodsport', 'Blade', 'Bad Boys', 'Die Hard With a Vengeance', 'The Running Man', 'Code of Silence', \"Shoot 'Em Up\", 'Crank', 'Machete', 'Drive', 'Batman', 'Under Siege', 'Independence Day', 'Bullitt', 'Wanted', 'Superman: The Movie', 'Ronin', 'They Live', 'Cliffhanger', \"Marvel's the Avengers\", 'Hot Fuzz', 'The Warriors', 'Starship Troopers', 'Elite Squad 2', 'Point Break', 'The Long Kiss Goodnight', 'The Guest', 'Taken', '300', 'True Lies', 'Demolition Man', 'Hardcore Henry', 'Police Story', 'Brotherhood of the Wolf', 'Kingsman: The Secret Service', 'The Fifth Element', 'Big Trouble in Little China', 'Atomic Blonde', 'Rumble in the Bronx', 'District B13', 'Beverly Hills Cop', 'Ong-Bak: The Thai Warrior', 'Collateral', 'Iron Monkey', 'Escape From New York', 'Battle Royale', 'Spider-Man 2', '13 Assassins', 'Full Contact', 'Indiana Jones and the Last Crusade', 'Kung Fu Hustle', 'A Better Tomorrow', 'Iron Man', 'The Night Comes for Us', 'Logan', '007: Goldfinger', 'Assault on Precinct 13', 'Wonder Woman', 'The Chinese Connection', 'Captain America: The Winter Soldier', 'Oldboy', 'The French Connection', 'Furious 7', 'La Femme Nikita', 'Supercop', 'Dirty Harry', 'Edge of Tomorrow', 'X2', 'The Fugitive', 'Black Panther', 'Inception', 'Braveheart', 'Minority Report', 'Avengers: Endgame', 'Dredd', 'The Bourne Identity', 'Ip Man', 'Face/Off', 'To Live and Die in L.A.', 'The Dark Knight', 'Mission: Impossible - Ghost Protocol', 'Fast Five', 'Lethal Weapon', 'The Rock', 'RoboCop', 'John Wick: Chapter 2', 'Casino Royale', 'Baby Driver', 'Fist of Legend', 'The Killer', 'The Raid 2', 'Enter the Dragon', 'Commando', 'First Blood', 'Mission: Impossible Rogue Nation', 'The Terminator', 'Gladiator', 'Kill Bill: Vol. 1', 'The Professional', 'Speed', 'Drunken Master II', 'John Wick', 'Crouching Tiger, Hidden Dragon', 'Predator', 'The Bourne Ultimatum', 'Total Recall', 'Mad Max 2: The Road Warrior', 'Heat', 'The Raid: Redemption', 'Mission: Impossible - Fallout', 'Raiders of the Lost Ark', 'Aliens', 'Hard-Boiled', 'The Matrix', 'Terminator 2: Judgment Day', 'Die Hard', 'Mad Max: Fury Road']\n"
     ]
    }
   ],
   "source": [
    "headers2 = [movie_data.find('h2') for movie_data in data_elements]\n",
    "titles = [title.find('a').text for title in headers2 if title.find('a').text != None]\n",
    "print(titles)"
   ]
  },
  {
   "cell_type": "markdown",
   "metadata": {},
   "source": [
    "#### Extracting released years and scores"
   ]
  },
  {
   "cell_type": "code",
   "execution_count": 6,
   "metadata": {},
   "outputs": [
    {
     "name": "stdout",
     "output_type": "stream",
     "text": [
      "['1986', '2002', '2002', '1989', '2010', '1971', '2017', '1986', '1990', '2004', '2005', '2017', '1992', '1971', '1986', '1997', '2012', '1999', '2005', '1998', '2014', '2016', '1997', '1988', '1998', '1995', '1995', '1987', '1985', '2007', '2006', '2010', '2011', '1989', '1992', '1996', '1968', '2008', '1978', '1998', '1988', '1993', '2012', '2007', '1979', '1997', '2010', '1991', '1996', '2014', '2008', '2006', '1994', '1993', '2015', '1985', '2001', '2014', '1997', '1986', '2017', '1995', '2004', '1984', '2003', '2004', '1993', '1981', '2000', '2004', '2010', '1992', '1989', '2004', '1986', '2008', '2018', '2017', '1964', '1976', '2017', '1972', '2014', '2003', '1971', '2015', '1990', '1992', '1971', '2014', '2003', '1993', '2018', '2010', '1995', '2002', '2019', '2012', '2002', '2008', '1997', '1985', '2008', '2011', '2011', '1987', '1996', '1987', '2017', '2006', '2017', '1994', '1989', '2014', '1973', '1985', '1982', '2015', '1984', '2000', '2003', '1994', '1994', '1994', '2014', '2000', '1987', '2007', '1990', '1981', '1995', '2011', '2018', '1981', '1986', '1992', '1999', '1991', '1988', '2015']\n",
      "['59%', '40%', '94%', '41%', '87%', '88%', '85%', '71%', '70%', '46%', '53%', '93%', '91%', '97%', '58%', '58%', '67%', '60%', '59%', '62%', '60%', '90%', '79%', '46%', '57%', '43%', '58%', '66%', '70%', '67%', '62%', '71%', '93%', '75%', '79%', '68%', '98%', '71%', '94%', '70%', '86%', '68%', '91%', '91%', '88%', '70%', '91%', '70%', '68%', '92%', '59%', '61%', '70%', '62%', '51%', '93%', '73%', '75%', '71%', '74%', '79%', '80%', '80%', '83%', '85%', '86%', '91%', '87%', '88%', '93%', '95%', '89%', '84%', '90%', '93%', '94%', '91%', '94%', '99%', '96%', '93%', '83%', '90%', '82%', '96%', '81%', '89%', '93%', '89%', '91%', '85%', '96%', '96%', '87%', '76%', '90%', '94%', '80%', '84%', '86%', '92%', '86%', '94%', '93%', '78%', '80%', '67%', '91%', '89%', '94%', '92%', '100%', '98%', '82%', '88%', '67%', '86%', '94%', '100%', '80%', '85%', '74%', '95%', '84%', '86%', '98%', '80%', '92%', '82%', '95%', '88%', '87%', '97%', '93%', '98%', '95%', '88%', '91%', '94%', '97%']\n"
     ]
    }
   ],
   "source": [
    "released_years = [release_year.find('span', class_ = 'subtle start-year').text.strip('()') for release_year in headers2 ]\n",
    "print(released_years)\n",
    "scores = [score.find('span', class_='tMeterScore').text for score in headers2]\n",
    "print(scores)"
   ]
  },
  {
   "cell_type": "markdown",
   "metadata": {},
   "source": [
    "#### Extracting Critics Consensus, synopsis, cast and director"
   ]
  },
  {
   "cell_type": "code",
   "execution_count": 41,
   "metadata": {},
   "outputs": [],
   "source": [
    "# Extra info is the element that contain the critics consensus, synopsis, cast members and director\n",
    "extra_info = soup.find_all('div', class_='col-sm-24')\n",
    "critics_consensus = [None if critic_consensu.find('div', class_='info critics-consensus') is None else critic_consensu.find('div', class_='info critics-consensus').text for critic_consensu in extra_info]\n",
    "critics_consensus= [critic_consensu.replace('Critics Consensus: ', '') for critic_consensu in critics_consensus]"
   ]
  },
  {
   "cell_type": "code",
   "execution_count": 46,
   "metadata": {},
   "outputs": [],
   "source": [
    "# Synopsis\n",
    "synopsis = [None if synopsi.find('div', class_='info synopsis') is None else synopsi.find('div', class_='info synopsis').text for synopsi in extra_info]\n",
    "synopsis= [synopsi.replace('Synopsis: ', '') for synopsi in synopsis]\n",
    "synopsis= [synopsi.replace('[More]', '') for synopsi in synopsis]\n",
    "\n",
    "# Main Cast members\n",
    "casts = [None if cast.find('div', class_='info cast') is None else cast.find('div', class_='info cast').text for cast in extra_info]\n",
    "casts = [cast.replace('\\nStarring: ', '') for cast in casts]\n",
    "\n",
    "# Directors\n",
    "directors = [None if director.find('div', class_='info director') is None else director.find('div', class_='info director') for director in extra_info]\n",
    "directors = [None if director.find('a') is None else director.find('a').text for director in directors]"
   ]
  },
  {
   "cell_type": "code",
   "execution_count": 50,
   "metadata": {},
   "outputs": [
    {
     "name": "stdout",
     "output_type": "stream",
     "text": [
      "                          Title Released Year Rotten Tomatoes Score  \\\n",
      "0                Running Scared          1986                   59%   \n",
      "1                   Equilibrium          2002                   40%   \n",
      "2                          Hero          2002                   94%   \n",
      "3                    Road House          1989                   41%   \n",
      "4                   Unstoppable          2010                   87%   \n",
      "..                          ...           ...                   ...   \n",
      "135                 Hard-Boiled          1992                   95%   \n",
      "136                  The Matrix          1999                   88%   \n",
      "137  Terminator 2: Judgment Day          1991                   91%   \n",
      "138                    Die Hard          1988                   94%   \n",
      "139          Mad Max: Fury Road          2015                   97%   \n",
      "\n",
      "                                                  Cast          Director  \\\n",
      "0    Gregory Hines, Billy Crystal, Jimmy Smits, Ste...       Peter Hyams   \n",
      "1    Christian Bale, Emily Watson, Taye Diggs, Angu...       Kurt Wimmer   \n",
      "2    Jet Li, Tony Leung Chiu Wai, Maggie Cheung, Do...       Yimou Zhang   \n",
      "3    Patrick Swayze, Kelly Lynch, Sam Elliott, Ben ...  Rowdy Herrington   \n",
      "4    Denzel Washington, Chris Pine, Rosario Dawson,...        Tony Scott   \n",
      "..                                                 ...               ...   \n",
      "135  Chow Yun-Fat, Bowie Lam, Philip Chan, Tony Leu...          John Woo   \n",
      "136  Keanu Reeves, Laurence Fishburne, Carrie-Anne ...   Lilly Wachowski   \n",
      "137  Arnold Schwarzenegger, Linda Hamilton, Edward ...     James Cameron   \n",
      "138  Bruce Willis, Alan Rickman, Bonnie Bedelia, Re...    John McTiernan   \n",
      "139  Tom Hardy, Charlize Theron, Nicholas Hoult, Hu...     George Miller   \n",
      "\n",
      "                                              Synopsis  \\\n",
      "0    Ray and Danny (Gregory Hines, Billy Crystal) a...   \n",
      "1    In a futuristic world, a regime has eliminated...   \n",
      "2    In this visually arresting martial arts epic s...   \n",
      "3    The Double Deuce is the meanest, loudest and r...   \n",
      "4    When a massive, unmanned locomotive roars out ...   \n",
      "..                                                 ...   \n",
      "135  A cop who loses his partner in a shoot-out wit...   \n",
      "136  Neo (Keanu Reeves) believes that Morpheus (Lau...   \n",
      "137  In this sequel set eleven years after \"The Ter...   \n",
      "138  New York City policeman John McClane (Bruce Wi...   \n",
      "139  Years after the collapse of civilization, the ...   \n",
      "\n",
      "                                     Critics consensus  \n",
      "0    Running Scared struggles to strike a consisten...  \n",
      "1    Equilibrium is a reheated mishmash of other sc...  \n",
      "2    With death-defying action sequences and epic h...  \n",
      "3    Whether Road House is simply bad or so bad it'...  \n",
      "4    As fast, loud, and relentless as the train at ...  \n",
      "..                                                 ...  \n",
      "135  Boasting impactful action as well as surprisin...  \n",
      "136  Thanks to the Wachowskis' imaginative vision, ...  \n",
      "137  T2 features thrilling action sequences and eye...  \n",
      "138  Its many imitators (and sequels) have never co...  \n",
      "139  With exhilarating action and a surprising amou...  \n",
      "\n",
      "[140 rows x 7 columns]\n"
     ]
    }
   ],
   "source": [
    "movies_data = {\n",
    "    'Title': titles,\n",
    "    'Released Year': released_years,\n",
    "    'Rotten Tomatoes Score': scores,\n",
    "    'Cast': casts,\n",
    "    'Director': directors,\n",
    "    'Synopsis': synopsis,\n",
    "    'Critics consensus': critics_consensus\n",
    "}\n",
    "movies_df = pd.DataFrame(movies_data)\n",
    "print(movies_df)\n",
    "movies_df.to_csv('data_140_action_movies.csv')\n",
    "\n"
   ]
  },
  {
   "cell_type": "code",
   "execution_count": null,
   "metadata": {},
   "outputs": [],
   "source": []
  }
 ],
 "metadata": {
  "kernelspec": {
   "display_name": "scraping",
   "language": "python",
   "name": "python3"
  },
  "language_info": {
   "codemirror_mode": {
    "name": "ipython",
    "version": 3
   },
   "file_extension": ".py",
   "mimetype": "text/x-python",
   "name": "python",
   "nbconvert_exporter": "python",
   "pygments_lexer": "ipython3",
   "version": "3.10.11"
  },
  "orig_nbformat": 4
 },
 "nbformat": 4,
 "nbformat_minor": 2
}
